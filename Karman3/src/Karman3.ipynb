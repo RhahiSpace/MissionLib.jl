{
 "cells": [
  {
   "cell_type": "code",
   "execution_count": 1,
   "metadata": {},
   "outputs": [],
   "source": [
    "using KerbalMath\n",
    "using KerbalRemoteLogging\n",
    "using KRPC\n",
    "using SpaceLib\n",
    "using .Engine\n",
    "using .Parachute\n",
    "using .Decoupler\n",
    "import KRPC.Interface.SpaceCenter as SC\n",
    "import KRPC.Interface.SpaceCenter.RemoteTypes as SCR\n",
    "import KRPC.Interface.SpaceCenter.Helpers as SCH\n"
   ]
  },
  {
   "cell_type": "code",
   "execution_count": 2,
   "metadata": {},
   "outputs": [],
   "source": [
    "include(\"setup.jl\")\n",
    ";"
   ]
  },
  {
   "cell_type": "code",
   "execution_count": 3,
   "metadata": {},
   "outputs": [
    {
     "name": "stderr",
     "output_type": "stream",
     "text": [
      "┌ Info: Hardware control loop starting\n",
      "└ @ SpaceLib /home/rhahi/.julia/dev/SpaceLib/src/spacecraft.jl:217\n",
      "┌ Info: Acquired spacecraft Karman 3 for control\n",
      "└ @ SpaceLib /home/rhahi/.julia/dev/SpaceLib/src/spacecenter.jl:56\n"
     ]
    }
   ],
   "source": [
    "sc = SpaceCenter(\"Karman 3\", \"10.0.0.51\")\n",
    "sp = add_active_vessel!(sc)\n",
    "setup_logger(sp)\n",
    "con = subcontrol(sp, \"subcontrol\")\n",
    "core, e1, e2, chute, dec1, dec2 = setup(sp, con)\n",
    ";"
   ]
  },
  {
   "cell_type": "code",
   "execution_count": 4,
   "metadata": {},
   "outputs": [
    {
     "data": {
      "text/plain": [
       "detach (generic function with 1 method)"
      ]
     },
     "metadata": {},
     "output_type": "display_data"
    }
   ],
   "source": [
    "\n",
    "function stage0(sp::Spacecraft)\n",
    "    stage!(sp)\n",
    "    delay(sp.ts, 0.75, \"SRB\")\n",
    "    stage!(sp)\n",
    "    delay(sp.ts, 0.6, \"SRB\")\n",
    "end\n",
    "\n",
    "function stage1(sp::Spacecraft)\n",
    "    ignite!(sp, e1; name=\"E1 ignition\")\n",
    "    task = @async wait_for_burnout(sp, e1;\n",
    "        progress=true,\n",
    "        name=\"Stage 1\",\n",
    "        margin=0.33,\n",
    "        timeout=60,\n",
    "    )\n",
    "    stage!(sp)\n",
    "    wait(task)\n",
    "end\n",
    "\n",
    "function stage2(sp::Spacecraft)\n",
    "    ignite!(sp, e2; name=\"E2 ignition\")\n",
    "    task = @async wait_for_burnout(sp, e2;\n",
    "        progress=true,\n",
    "        name=\"Stage 2\",\n",
    "        margin=0.5,\n",
    "        timeout=60,\n",
    "    )\n",
    "    shutdown!(e1)\n",
    "    stage!(sp)\n",
    "    wait(task)\n",
    "end\n",
    "\n",
    "function deploy(sp::Spacecraft)\n",
    "    periodic_subscribe(sp.ts, 5) do clock\n",
    "        ref = ReferenceFrame.BCBF(sp.ves)\n",
    "        h0 = SCH.Position(sp.ves, ref) |> norm\n",
    "        h_prev = h0\n",
    "        for now = clock\n",
    "            h = SCH.Position(sp.ves, ref) |> norm\n",
    "            h - h_prev < 0 && break\n",
    "            h_prev = h\n",
    "            @info \"relative height: $(h-h0)\"\n",
    "            yield()\n",
    "        end\n",
    "    end\n",
    "    arm!(chute)\n",
    "    delay(sp.ts, 1)\n",
    "    if isarmed(chute)\n",
    "        @info \"Parachute has been armed\" _group=:module\n",
    "    end\n",
    "end\n",
    "\n",
    "function detach(sp::Spacecraft)\n",
    "    decouple!(dec1; top=true)\n",
    "    decouple!(dec2; bottom=true)\n",
    "end"
   ]
  },
  {
   "cell_type": "code",
   "execution_count": 5,
   "metadata": {},
   "outputs": [],
   "source": [
    "stage0(sp)\n",
    "stage1(sp)\n",
    "stage2(sp)\n",
    "deploy(sp)\n",
    "detach(sp)"
   ]
  }
 ],
 "metadata": {
  "kernelspec": {
   "display_name": "Julia 1.9.0",
   "language": "julia",
   "name": "julia-1.9"
  },
  "language_info": {
   "file_extension": ".jl",
   "mimetype": "application/julia",
   "name": "julia",
   "version": "1.9.0"
  },
  "orig_nbformat": 4
 },
 "nbformat": 4,
 "nbformat_minor": 2
}
